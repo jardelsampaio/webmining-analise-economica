{
 "cells": [
  {
   "cell_type": "markdown",
   "id": "fb7c4e7f",
   "metadata": {},
   "source": [
    "# Projeto Fintech de Investimentos\n",
    "### Etapa 1 — Planejamento e Setup do Ambiente\n",
    "**Autor:** JOSE JARDEL SAMPAIO SIQUEIRA\n",
    "\n",
    "Este notebook configura o ambiente inicial do projeto de Web Scraping voltado para o mercado financeiro brasileiro, simulando a coleta e análise de dados para uma *fintech de investimentos*. O objetivo é preparar a estrutura de diretórios, instalar dependências e testar a conexão com fontes públicas como a API do Banco Central."
   ]
  },
  {
   "cell_type": "markdown",
   "id": "d1c1d712",
   "metadata": {
    "jp-MarkdownHeadingCollapsed": true
   },
   "source": [
    "## Estrutura do Projeto\n",
    "```\n",
    "Projeto_Fintech_Scraping/\n",
    "│\n",
    "├── notebooks/\n",
    "│   ├── 01_planejamento_setup.ipynb\n",
    "│   ├── 02_coleta_noticias.ipynb\n",
    "│   ├── 03_coleta_series_api.ipynb\n",
    "│   ├── 04_integracao_e_validacao.ipynb\n",
    "│\n",
    "├── data/\n",
    "│   ├── raw/\n",
    "│   ├── processed/\n",
    "│\n",
    "├── banco/\n",
    "│   └── banco_analitico.duckdb\n",
    "│\n",
    "└── requirements.txt\n",
    "```"
   ]
  },
  {
   "cell_type": "markdown",
   "id": "79703840",
   "metadata": {},
   "source": [
    "## 1. Importações Iniciais e Setup"
   ]
  },
  {
   "cell_type": "code",
   "execution_count": null,
   "id": "f1668370-a3c3-49d8-88c5-e9486b923fa7",
   "metadata": {},
   "outputs": [],
   "source": [
    "!pip install duckdb"
   ]
  },
  {
   "cell_type": "code",
   "execution_count": null,
   "id": "2ebd58b2",
   "metadata": {},
   "outputs": [],
   "source": [
    "import os\n",
    "import pandas as pd\n",
    "import requests\n",
    "from bs4 import BeautifulSoup\n",
    "import duckdb\n",
    "from datetime import datetime"
   ]
  },
  {
   "cell_type": "markdown",
   "id": "2170ef34",
   "metadata": {},
   "source": [
    "## 2. Criação das Pastas do Projeto"
   ]
  },
  {
   "cell_type": "code",
   "execution_count": null,
   "id": "c502dbd9",
   "metadata": {},
   "outputs": [],
   "source": [
    "folders = ['data/raw', 'data/processed', 'banco']\n",
    "for folder in folders:\n",
    "    os.makedirs(folder, exist_ok=True)\n",
    "print('Pastas criadas Com Sucesso:', folders)"
   ]
  },
  {
   "cell_type": "markdown",
   "id": "71a7edc7",
   "metadata": {},
   "source": [
    "## 3. Teste de Conexão com API do Banco Central (Exemplo: SELIC)"
   ]
  },
  {
   "cell_type": "code",
   "execution_count": null,
   "id": "8fce5a50",
   "metadata": {},
   "outputs": [],
   "source": [
    "import requests\n",
    "from datetime import datetime, timedelta\n",
    "\n",
    "url = \"https://api.bcb.gov.br/dados/serie/bcdata.sgs.11/dados?formato=json\"\n",
    "\n",
    "#Dados do ultimo ano\n",
    "data_final = datetime.today()\n",
    "data_inicial = data_final - timedelta(days=365)\n",
    "\n",
    "params = {\n",
    "    \"dataInicial\": data_inicial.strftime(\"%d/%m/%Y\"),\n",
    "    \"dataFinal\": data_final.strftime(\"%d/%m/%Y\")\n",
    "}\n",
    "\n",
    "headers = {\n",
    "    \"User-Agent\": \"Mozilla/5.0 (Windows NT 10.0; Win64; x64) \"\n",
    "                  \"AppleWebKit/537.36 (KHTML, like Gecko) Chrome/118.0.0.0 \"\n",
    "                  \"Safari/537.36 OPR/104.0.0.0\",\n",
    "    \"Accept\": \"application/json\"\n",
    "}\n",
    "\n",
    "response = requests.get(url, headers=headers, params=params)\n",
    "\n",
    "if response.status_code == 200:\n",
    "    dados = response.json()\n",
    "    print(f\"Conexão bem-sucedida! Registros retornados: {len(dados)}\")\n",
    "    print(\"Exemplo de retorno:\")\n",
    "    print(dados[:3])\n",
    "else:\n",
    "    print(f\"Erro na conexão: {response.status_code}\")\n",
    "    print(response.text[:300])\n"
   ]
  },
  {
   "cell_type": "markdown",
   "id": "64607d01",
   "metadata": {},
   "source": [
    "## 4. Criação e Teste do Banco Analítico (DuckDB)"
   ]
  },
  {
   "cell_type": "code",
   "execution_count": null,
   "id": "527354f9",
   "metadata": {},
   "outputs": [],
   "source": [
    "import duckdb\n",
    "\n",
    "conn = duckdb.connect('banco/banco_analitico.duckdb')\n",
    "print('Banco analítico criado/conectado com sucesso!')\n",
    "\n",
    "conn.execute(\"CREATE TABLE IF NOT EXISTS teste (id INTEGER, nome VARCHAR)\")\n",
    "\n",
    "conn.execute(\"INSERT INTO teste (id, nome) VALUES (1, 'Fintech')\")\n",
    "\n",
    "print(conn.execute(\"SELECT * FROM teste\").fetchall())\n",
    "conn.close()\n"
   ]
  }
 ],
 "metadata": {
  "kernelspec": {
   "display_name": "Python 3 (ipykernel)",
   "language": "python",
   "name": "python3"
  },
  "language_info": {
   "codemirror_mode": {
    "name": "ipython",
    "version": 3
   },
   "file_extension": ".py",
   "mimetype": "text/x-python",
   "name": "python",
   "nbconvert_exporter": "python",
   "pygments_lexer": "ipython3",
   "version": "3.13.5"
  }
 },
 "nbformat": 4,
 "nbformat_minor": 5
}
