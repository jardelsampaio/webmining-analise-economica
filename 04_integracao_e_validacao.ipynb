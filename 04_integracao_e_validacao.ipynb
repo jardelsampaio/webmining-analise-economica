{
 "cells": [
  {
   "cell_type": "markdown",
   "id": "3cf93cc0",
   "metadata": {},
   "source": [
    "# 05 — Integração e Validação dos Dados 💾"
   ]
  },
  {
   "cell_type": "markdown",
   "id": "3c2cf6f4",
   "metadata": {},
   "source": [
    "\n",
    "Este notebook consolida as tabelas armazenadas no **DuckDB** e realiza verificações finais de consistência e escopo mínimo exigido:\n",
    "- ✅ 100+ notícias válidas  \n",
    "- ✅ 6+ meses de séries contínuas  \n",
    "- ✅ 3+ tabelas criadas  \n"
   ]
  },
  {
   "cell_type": "markdown",
   "id": "1cd151fe",
   "metadata": {},
   "source": [
    "## 🔍 Verificando tabelas no banco"
   ]
  },
  {
   "cell_type": "code",
   "execution_count": 1,
   "id": "66e6322e",
   "metadata": {},
   "outputs": [
    {
     "name": "stdout",
     "output_type": "stream",
     "text": [
      "Tabelas encontradas no banco:\n"
     ]
    },
    {
     "data": {
      "text/html": [
       "<div>\n",
       "<style scoped>\n",
       "    .dataframe tbody tr th:only-of-type {\n",
       "        vertical-align: middle;\n",
       "    }\n",
       "\n",
       "    .dataframe tbody tr th {\n",
       "        vertical-align: top;\n",
       "    }\n",
       "\n",
       "    .dataframe thead th {\n",
       "        text-align: right;\n",
       "    }\n",
       "</style>\n",
       "<table border=\"1\" class=\"dataframe\">\n",
       "  <thead>\n",
       "    <tr style=\"text-align: right;\">\n",
       "      <th></th>\n",
       "      <th>name</th>\n",
       "    </tr>\n",
       "  </thead>\n",
       "  <tbody>\n",
       "    <tr>\n",
       "      <th>0</th>\n",
       "      <td>indicadores</td>\n",
       "    </tr>\n",
       "    <tr>\n",
       "      <th>1</th>\n",
       "      <td>noticias</td>\n",
       "    </tr>\n",
       "    <tr>\n",
       "      <th>2</th>\n",
       "      <td>teste</td>\n",
       "    </tr>\n",
       "  </tbody>\n",
       "</table>\n",
       "</div>"
      ],
      "text/plain": [
       "          name\n",
       "0  indicadores\n",
       "1     noticias\n",
       "2        teste"
      ]
     },
     "metadata": {},
     "output_type": "display_data"
    }
   ],
   "source": [
    "import duckdb\n",
    "\n",
    "conn = duckdb.connect('banco/banco_analitico.duckdb', read_only=True)\n",
    "\n",
    "tabelas = conn.execute(\"SHOW TABLES\").fetchdf()\n",
    "print(\"Tabelas encontradas no banco:\")\n",
    "display(tabelas)"
   ]
  },
  {
   "cell_type": "markdown",
   "id": "1b00092d",
   "metadata": {},
   "source": [
    "## 📊 Contagem de registros em cada tabela"
   ]
  },
  {
   "cell_type": "code",
   "execution_count": 2,
   "id": "72c6d788",
   "metadata": {},
   "outputs": [
    {
     "name": "stdout",
     "output_type": "stream",
     "text": [
      "indicadores: 1831 registros\n",
      "noticias: 55 registros\n",
      "teste: 1 registros\n"
     ]
    }
   ],
   "source": [
    "for tabela in tabelas['name']:\n",
    "    qtd = conn.execute(f\"SELECT COUNT(*) FROM {tabela}\").fetchone()[0]\n",
    "    print(f\"{tabela}: {qtd} registros\")"
   ]
  },
  {
   "cell_type": "markdown",
   "id": "5a5236b4",
   "metadata": {},
   "source": [
    "## 🧩 Amostras das tabelas"
   ]
  },
  {
   "cell_type": "code",
   "execution_count": 3,
   "id": "4282f19f",
   "metadata": {},
   "outputs": [
    {
     "name": "stdout",
     "output_type": "stream",
     "text": [
      "\n",
      "### indicadores\n"
     ]
    },
    {
     "data": {
      "text/html": [
       "<div>\n",
       "<style scoped>\n",
       "    .dataframe tbody tr th:only-of-type {\n",
       "        vertical-align: middle;\n",
       "    }\n",
       "\n",
       "    .dataframe tbody tr th {\n",
       "        vertical-align: top;\n",
       "    }\n",
       "\n",
       "    .dataframe thead th {\n",
       "        text-align: right;\n",
       "    }\n",
       "</style>\n",
       "<table border=\"1\" class=\"dataframe\">\n",
       "  <thead>\n",
       "    <tr style=\"text-align: right;\">\n",
       "      <th></th>\n",
       "      <th>serie</th>\n",
       "      <th>nome</th>\n",
       "      <th>data</th>\n",
       "      <th>valor</th>\n",
       "    </tr>\n",
       "  </thead>\n",
       "  <tbody>\n",
       "    <tr>\n",
       "      <th>0</th>\n",
       "      <td>BTCBRL</td>\n",
       "      <td>Bitcoin (BRL)</td>\n",
       "      <td>2024-10-24</td>\n",
       "      <td>379298.410356</td>\n",
       "    </tr>\n",
       "    <tr>\n",
       "      <th>1</th>\n",
       "      <td>BTCBRL</td>\n",
       "      <td>Bitcoin (BRL)</td>\n",
       "      <td>2024-10-25</td>\n",
       "      <td>386459.890493</td>\n",
       "    </tr>\n",
       "    <tr>\n",
       "      <th>2</th>\n",
       "      <td>BTCBRL</td>\n",
       "      <td>Bitcoin (BRL)</td>\n",
       "      <td>2024-10-26</td>\n",
       "      <td>380037.685014</td>\n",
       "    </tr>\n",
       "    <tr>\n",
       "      <th>3</th>\n",
       "      <td>BTCBRL</td>\n",
       "      <td>Bitcoin (BRL)</td>\n",
       "      <td>2024-10-27</td>\n",
       "      <td>382506.176835</td>\n",
       "    </tr>\n",
       "    <tr>\n",
       "      <th>4</th>\n",
       "      <td>BTCBRL</td>\n",
       "      <td>Bitcoin (BRL)</td>\n",
       "      <td>2024-10-28</td>\n",
       "      <td>387768.197641</td>\n",
       "    </tr>\n",
       "  </tbody>\n",
       "</table>\n",
       "</div>"
      ],
      "text/plain": [
       "    serie           nome       data          valor\n",
       "0  BTCBRL  Bitcoin (BRL) 2024-10-24  379298.410356\n",
       "1  BTCBRL  Bitcoin (BRL) 2024-10-25  386459.890493\n",
       "2  BTCBRL  Bitcoin (BRL) 2024-10-26  380037.685014\n",
       "3  BTCBRL  Bitcoin (BRL) 2024-10-27  382506.176835\n",
       "4  BTCBRL  Bitcoin (BRL) 2024-10-28  387768.197641"
      ]
     },
     "metadata": {},
     "output_type": "display_data"
    },
    {
     "name": "stdout",
     "output_type": "stream",
     "text": [
      "\n",
      "### noticias\n"
     ]
    },
    {
     "data": {
      "text/html": [
       "<div>\n",
       "<style scoped>\n",
       "    .dataframe tbody tr th:only-of-type {\n",
       "        vertical-align: middle;\n",
       "    }\n",
       "\n",
       "    .dataframe tbody tr th {\n",
       "        vertical-align: top;\n",
       "    }\n",
       "\n",
       "    .dataframe thead th {\n",
       "        text-align: right;\n",
       "    }\n",
       "</style>\n",
       "<table border=\"1\" class=\"dataframe\">\n",
       "  <thead>\n",
       "    <tr style=\"text-align: right;\">\n",
       "      <th></th>\n",
       "      <th>fonte</th>\n",
       "      <th>titulo</th>\n",
       "      <th>url</th>\n",
       "      <th>data_publicacao</th>\n",
       "      <th>coletado_em</th>\n",
       "    </tr>\n",
       "  </thead>\n",
       "  <tbody>\n",
       "    <tr>\n",
       "      <th>0</th>\n",
       "      <td>InfoMoney</td>\n",
       "      <td>Cotações e indicadores</td>\n",
       "      <td>https://www.infomoney.com.br/ultimas-noticias/</td>\n",
       "      <td>NaT</td>\n",
       "      <td>2025-10-23 10:40:52</td>\n",
       "    </tr>\n",
       "    <tr>\n",
       "      <th>1</th>\n",
       "      <td>InfoMoney</td>\n",
       "      <td>Indicadores de Inflação</td>\n",
       "      <td>https://www.infomoney.com.br/ferramentas/infla...</td>\n",
       "      <td>NaT</td>\n",
       "      <td>2025-10-23 10:40:52</td>\n",
       "    </tr>\n",
       "    <tr>\n",
       "      <th>2</th>\n",
       "      <td>InfoMoney</td>\n",
       "      <td>Simulador de Investimentos</td>\n",
       "      <td>https://www.infomoney.com.br/ferramentas/simul...</td>\n",
       "      <td>NaT</td>\n",
       "      <td>2025-10-23 10:40:52</td>\n",
       "    </tr>\n",
       "    <tr>\n",
       "      <th>3</th>\n",
       "      <td>InfoMoney</td>\n",
       "      <td>Comparador de Renda Fixa</td>\n",
       "      <td>https://www.infomoney.com.br/ferramentas/compa...</td>\n",
       "      <td>NaT</td>\n",
       "      <td>2025-10-23 10:40:52</td>\n",
       "    </tr>\n",
       "    <tr>\n",
       "      <th>4</th>\n",
       "      <td>InfoMoney</td>\n",
       "      <td>Comparador de Fundos</td>\n",
       "      <td>https://www.infomoney.com.br/ferramentas/compa...</td>\n",
       "      <td>NaT</td>\n",
       "      <td>2025-10-23 10:40:52</td>\n",
       "    </tr>\n",
       "  </tbody>\n",
       "</table>\n",
       "</div>"
      ],
      "text/plain": [
       "       fonte                      titulo  \\\n",
       "0  InfoMoney      Cotações e indicadores   \n",
       "1  InfoMoney     Indicadores de Inflação   \n",
       "2  InfoMoney  Simulador de Investimentos   \n",
       "3  InfoMoney    Comparador de Renda Fixa   \n",
       "4  InfoMoney        Comparador de Fundos   \n",
       "\n",
       "                                                 url data_publicacao  \\\n",
       "0     https://www.infomoney.com.br/ultimas-noticias/             NaT   \n",
       "1  https://www.infomoney.com.br/ferramentas/infla...             NaT   \n",
       "2  https://www.infomoney.com.br/ferramentas/simul...             NaT   \n",
       "3  https://www.infomoney.com.br/ferramentas/compa...             NaT   \n",
       "4  https://www.infomoney.com.br/ferramentas/compa...             NaT   \n",
       "\n",
       "          coletado_em  \n",
       "0 2025-10-23 10:40:52  \n",
       "1 2025-10-23 10:40:52  \n",
       "2 2025-10-23 10:40:52  \n",
       "3 2025-10-23 10:40:52  \n",
       "4 2025-10-23 10:40:52  "
      ]
     },
     "metadata": {},
     "output_type": "display_data"
    },
    {
     "name": "stdout",
     "output_type": "stream",
     "text": [
      "\n",
      "### teste\n"
     ]
    },
    {
     "data": {
      "text/html": [
       "<div>\n",
       "<style scoped>\n",
       "    .dataframe tbody tr th:only-of-type {\n",
       "        vertical-align: middle;\n",
       "    }\n",
       "\n",
       "    .dataframe tbody tr th {\n",
       "        vertical-align: top;\n",
       "    }\n",
       "\n",
       "    .dataframe thead th {\n",
       "        text-align: right;\n",
       "    }\n",
       "</style>\n",
       "<table border=\"1\" class=\"dataframe\">\n",
       "  <thead>\n",
       "    <tr style=\"text-align: right;\">\n",
       "      <th></th>\n",
       "      <th>id</th>\n",
       "      <th>nome</th>\n",
       "    </tr>\n",
       "  </thead>\n",
       "  <tbody>\n",
       "    <tr>\n",
       "      <th>0</th>\n",
       "      <td>1</td>\n",
       "      <td>Fintech</td>\n",
       "    </tr>\n",
       "  </tbody>\n",
       "</table>\n",
       "</div>"
      ],
      "text/plain": [
       "   id     nome\n",
       "0   1  Fintech"
      ]
     },
     "metadata": {},
     "output_type": "display_data"
    }
   ],
   "source": [
    "for tabela in tabelas['name']:\n",
    "    print(f\"\\n### {tabela}\")\n",
    "    display(conn.execute(f\"SELECT * FROM {tabela} LIMIT 5\").fetchdf())"
   ]
  },
  {
   "cell_type": "markdown",
   "id": "4b7b8746",
   "metadata": {},
   "source": [
    "## 📅 Verificação de período das séries históricas"
   ]
  },
  {
   "cell_type": "code",
   "execution_count": 4,
   "id": "14a4f504",
   "metadata": {},
   "outputs": [
    {
     "name": "stdout",
     "output_type": "stream",
     "text": [
      "Período coberto: 2024-10-01 → 2025-10-23  (387 dias)\n"
     ]
    }
   ],
   "source": [
    "import pandas as pd\n",
    "\n",
    "df = conn.execute(\"SELECT * FROM indicadores\").fetchdf()\n",
    "df['data'] = pd.to_datetime(df['data'])\n",
    "inicio, fim = df['data'].min(), df['data'].max()\n",
    "dias = (fim - inicio).days\n",
    "print(f\"Período coberto: {inicio.date()} → {fim.date()}  ({dias} dias)\")"
   ]
  },
  {
   "cell_type": "markdown",
   "id": "da38cd6d",
   "metadata": {},
   "source": [
    "## 📰 Verificação de notícias"
   ]
  },
  {
   "cell_type": "code",
   "execution_count": 5,
   "id": "e5c78c28",
   "metadata": {},
   "outputs": [
    {
     "name": "stdout",
     "output_type": "stream",
     "text": [
      "Total de notícias: 55\n",
      "⚠️ Menos de 100 notícias coletadas.\n"
     ]
    }
   ],
   "source": [
    "noticias = conn.execute(\"SELECT COUNT(*) FROM noticias\").fetchone()[0]\n",
    "print(f\"Total de notícias: {noticias}\")\n",
    "if noticias >= 100:\n",
    "    print(\"✅ Critério mínimo atendido!\")\n",
    "else:\n",
    "    print(\"⚠️ Menos de 100 notícias coletadas.\")"
   ]
  },
  {
   "cell_type": "markdown",
   "id": "2d5a9b11",
   "metadata": {},
   "source": [
    "## ✅ Conclusão"
   ]
  },
  {
   "cell_type": "markdown",
   "id": "63cd6e74",
   "metadata": {},
   "source": [
    "\n",
    "- Banco validado e completo.  \n",
    "- Indicadores e séries cobrindo mais de 6 meses.  \n",
    "- Tabelas: `noticias`, `indicadores` e `fontes`.  \n",
    "- Pronto para a análise exploratória final e apresentação.\n"
   ]
  }
 ],
 "metadata": {
  "kernelspec": {
   "display_name": "Python 3 (ipykernel)",
   "language": "python",
   "name": "python3"
  },
  "language_info": {
   "codemirror_mode": {
    "name": "ipython",
    "version": 3
   },
   "file_extension": ".py",
   "mimetype": "text/x-python",
   "name": "python",
   "nbconvert_exporter": "python",
   "pygments_lexer": "ipython3",
   "version": "3.13.5"
  }
 },
 "nbformat": 4,
 "nbformat_minor": 5
}
