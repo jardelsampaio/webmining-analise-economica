{
 "cells": [
  {
   "cell_type": "markdown",
   "id": "927eb4e6",
   "metadata": {},
   "source": [
    "# Coleta de Séries via API — Fintech de Investimentos\n",
    "**Notebook 03 — Indicadores (ultimo ano)**\n",
    "\n",
    "Coleta e padroniza **indicadores financeiros** para enriquecer o banco analítico (DuckDB).\n",
    "Fontes e séries:\n",
    "- **Banco Central (SGS)**: SELIC (432), IPCA (433), CDI (12), Poupança (195), USD/BRL (1)\n",
    "- **Yahoo Finance**: IBOVESPA (`^BVSP`)\n",
    "- **CoinGecko**: Bitcoin (BTC/BRL)\n",
    "\n",
    "Saídas em `data/raw/` (CSV/JSONL) e carga na tabela `indicadores`."
   ]
  },
  {
   "cell_type": "markdown",
   "id": "c67e63cb",
   "metadata": {},
   "source": [
    "```bash\n",
    "pip install pandas requests duckdb lxml html5lib tqdm yfinance\n",
    "```\n"
   ]
  },
  {
   "cell_type": "markdown",
   "id": "0f3eeb55",
   "metadata": {},
   "source": [
    "## Importações, Pastas e Janela de Datas (1 ano)"
   ]
  },
  {
   "cell_type": "code",
   "execution_count": null,
   "id": "d9a892ef",
   "metadata": {},
   "outputs": [],
   "source": [
    "import os, json, time\n",
    "from datetime import datetime, timedelta, timezone\n",
    "import pandas as pd\n",
    "import requests\n",
    "from tqdm import tqdm\n",
    "\n",
    "os.makedirs('data/raw', exist_ok=True)\n",
    "os.makedirs('data/processed', exist_ok=True)\n",
    "os.makedirs('banco', exist_ok=True)\n",
    "\n",
    "DATA_FINAL = datetime.now()\n",
    "DATA_INICIAL = DATA_FINAL - timedelta(days=365)\n",
    "\n",
    "def fmt_bcb(d: datetime) -> str:\n",
    "    return d.strftime('%d/%m/%Y')\n",
    "\n",
    "print('Janela:', fmt_bcb(DATA_INICIAL), '→', fmt_bcb(DATA_FINAL))\n",
    "print('Ambiente pronto')\n"
   ]
  },
  {
   "cell_type": "markdown",
   "id": "df804fda",
   "metadata": {},
   "source": [
    "## Funções — Banco Central (SGS)"
   ]
  },
  {
   "cell_type": "code",
   "execution_count": 2,
   "id": "20df01c2",
   "metadata": {},
   "outputs": [],
   "source": [
    "def coleta_sgs(serie_id: int, nome: str, data_inicial: datetime, data_final: datetime) -> pd.DataFrame:\n",
    "    url = f\"https://api.bcb.gov.br/dados/serie/bcdata.sgs.{serie_id}/dados\"\n",
    "    params = {\n",
    "        \"formato\": \"json\",\n",
    "        \"dataInicial\": fmt_bcb(data_inicial),\n",
    "        \"dataFinal\": fmt_bcb(data_final)\n",
    "    }\n",
    "    r = requests.get(url, headers=HEADERS, params=params, timeout=30)\n",
    "    r.raise_for_status()\n",
    "    dados = r.json()\n",
    "\n",
    "    if not dados:\n",
    "        print(f\"Nenhum dado retornado para série {serie_id}\")\n",
    "        return pd.DataFrame(columns=['serie','nome','data','valor'])\n",
    "\n",
    "    df = pd.DataFrame(dados)\n",
    "    df = df.rename(columns={'data':'data','valor':'valor'})\n",
    "    df['data'] = pd.to_datetime(df['data'], dayfirst=True).dt.date.astype(str)\n",
    "    df['valor'] = df['valor'].astype(float)\n",
    "    df.insert(0, 'serie', str(serie_id))\n",
    "    df.insert(1, 'nome', nome)\n",
    "    print(f\" Série {serie_id} ({nome}) — Linhas:\", len(df))\n",
    "    return df\n"
   ]
  },
  {
   "cell_type": "code",
   "execution_count": null,
   "id": "aac12363-5617-498d-8ddf-40f792148158",
   "metadata": {},
   "outputs": [],
   "source": [
    "from datetime import datetime, timedelta\n",
    "\n",
    "# intervalo de 2 anos\n",
    "data_final = datetime.now()\n",
    "data_inicial = data_final - timedelta(days=365)\n",
    "\n",
    "df_selic = coleta_sgs(432, \"SELIC (% a.a.)\", data_inicial, data_final)\n",
    "\n",
    "# Verifica o resultado\n",
    "print(\"✅ Linhas retornadas:\", len(df_selic))\n",
    "display(df_selic.head(10))\n"
   ]
  },
  {
   "cell_type": "markdown",
   "id": "9ffcd765",
   "metadata": {},
   "source": [
    "## IBOVESPA — Yahoo Finance (`^BVSP`)"
   ]
  },
  {
   "cell_type": "code",
   "execution_count": null,
   "id": "443f8dc1-9b6e-4537-aab7-b43528ee7a24",
   "metadata": {},
   "outputs": [],
   "source": [
    "!pip install yfinance"
   ]
  },
  {
   "cell_type": "code",
   "execution_count": 12,
   "id": "31d6df3a",
   "metadata": {},
   "outputs": [],
   "source": [
    "def coleta_ibov(data_inicial: datetime, data_final: datetime) -> pd.DataFrame:\n",
    "    import yfinance as yf\n",
    "    ticker = yf.Ticker('^BVSP')\n",
    "    df = ticker.history(\n",
    "        start=data_inicial.strftime('%Y-%m-%d'),\n",
    "        end=data_final.strftime('%Y-%m-%d'),\n",
    "        interval='1d'\n",
    "    )\n",
    "    if df.empty:\n",
    "        print(\"Nenhum dado retornado do Yahoo Finance.\")\n",
    "        return pd.DataFrame(columns=['serie','nome','data','valor'])\n",
    "    df = df[['Close']].reset_index().rename(columns={'Date':'data','Close':'valor'})\n",
    "    df['data'] = pd.to_datetime(df['data']).dt.date.astype(str)\n",
    "    df['valor'] = df['valor'].astype(float)\n",
    "    df.insert(0, 'serie', '^BVSP')\n",
    "    df.insert(1, 'nome', 'IBOVESPA')\n",
    "    return df\n"
   ]
  },
  {
   "cell_type": "code",
   "execution_count": null,
   "id": "88b42266-6b69-4a39-b9c2-f6a4caed4fbe",
   "metadata": {},
   "outputs": [],
   "source": [
    "df_ibov = coleta_ibov(DATA_INICIAL, DATA_FINAL)\n",
    "print(\"✅ Linhas coletadas:\", len(df_ibov))\n",
    "df_ibov.head()"
   ]
  },
  {
   "cell_type": "markdown",
   "id": "e70614d7",
   "metadata": {},
   "source": [
    "## ₿ Bitcoin (BTC/BRL) — CoinGecko"
   ]
  },
  {
   "cell_type": "code",
   "execution_count": 25,
   "id": "fad48037",
   "metadata": {},
   "outputs": [],
   "source": [
    "def coleta_btc_brl_coingecko(dias: int = 365) -> pd.DataFrame:\n",
    "    url = \"https://api.coingecko.com/api/v3/coins/bitcoin/market_chart\"\n",
    "    params = {\"vs_currency\":\"brl\", \"days\": str(dias)}\n",
    "    r = requests.get(url, headers=HEADERS, params=params, timeout=30)\n",
    "    r.raise_for_status()\n",
    "    js = r.json()\n",
    "    prices = js.get('prices', [])\n",
    "    if not prices:\n",
    "        return pd.DataFrame(columns=['serie','nome','data','valor'])\n",
    "    rows = []\n",
    "    for ts_ms, price in prices:\n",
    "        dt = datetime.fromtimestamp(ts_ms/1000.0, tz=datetime.UTC).date().isoformat()\n",
    "        rows.append((dt, float(price)))\n",
    "    df = pd.DataFrame(rows, columns=['data','valor']).groupby('data', as_index=False).last()\n",
    "    df.insert(0, 'serie', 'BTCBRL')\n",
    "    df.insert(1, 'nome', 'Bitcoin (BRL)')\n",
    "    return df\n"
   ]
  },
  {
   "cell_type": "code",
   "execution_count": null,
   "id": "9b2ad1bf-78b6-40f2-bee2-db43c1c4812b",
   "metadata": {},
   "outputs": [],
   "source": [
    "df_btc = coleta_btc_brl_coingecko()\n",
    "print(\"Linhas retornadas:\", len(df_btc))\n",
    "display(df_btc.head(10))"
   ]
  },
  {
   "cell_type": "markdown",
   "id": "98b5b68a",
   "metadata": {},
   "source": [
    "## Coletando todas as séries (ultimo ano)"
   ]
  },
  {
   "cell_type": "code",
   "execution_count": null,
   "id": "335088be-3718-46f4-9822-7243e14da6d8",
   "metadata": {},
   "outputs": [],
   "source": [
    "from datetime import datetime, timedelta\n",
    "\n",
    "DATA_FINAL = datetime.now()\n",
    "DATA_INICIAL = DATA_FINAL - timedelta(days=365)\n",
    "\n",
    "print(\"⏱ Intervalo definido:\")\n",
    "print(\"  DATA_INICIAL:\", DATA_INICIAL.strftime(\"%Y-%m-%d\"))\n",
    "print(\"  DATA_FINAL:\", DATA_FINAL.strftime(\"%Y-%m-%d\"))\n"
   ]
  },
  {
   "cell_type": "code",
   "execution_count": null,
   "id": "355e85de",
   "metadata": {},
   "outputs": [],
   "source": [
    "dfs = []\n",
    "series_bcb = [\n",
    "    (432, 'SELIC (% a.a.)'),\n",
    "    (433, 'IPCA (% mensal)'),\n",
    "    (12,  'CDI diário (% a.a.)'),\n",
    "    (195, 'Poupança (ref/%)'),\n",
    "    (1,   'USD/BRL (venda)')\n",
    "]\n",
    "\n",
    "print(\"Iniciando coleta de séries do BCB...\\n\")\n",
    "\n",
    "for sid, nome in series_bcb:\n",
    "    try:\n",
    "        print(f\"Coletando {sid} - {nome} ...\", end=\" \")\n",
    "        df = coleta_sgs(sid, nome, DATA_INICIAL, DATA_FINAL)\n",
    "        print(f\"{len(df)} linhas\")\n",
    "        dfs.append(df)\n",
    "    except Exception as e:\n",
    "        print(f\" Falha em {sid} ({nome}):\", e)\n",
    "\n",
    "# IBOVESPA\n",
    "try:\n",
    "    df_ibov = coleta_ibov(DATA_INICIAL, DATA_FINAL)\n",
    "    print(f\"\\n IBOVESPA (^BVSP): {len(df_ibov)} linhas\")\n",
    "    dfs.append(df_ibov)\n",
    "except Exception as e:\n",
    "    print(\"Falha IBOV:\", e)\n",
    "\n",
    "# BITCOIN\n",
    "try:\n",
    "    df_btc = coleta_btc_brl_coingecko(dias=365)\n",
    "    print(f\"₿ BTC/BRL: {len(df_btc)} linhas\")\n",
    "    dfs.append(df_btc)\n",
    "except Exception as e:\n",
    "    print(\"Falha BTC:\", e)\n",
    "\n",
    "# Consolidação\n",
    "if dfs:\n",
    "    df_all = pd.concat(dfs, ignore_index=True)\n",
    "    df_all = df_all[['serie', 'nome', 'data', 'valor']].sort_values(['nome', 'data']).reset_index(drop=True)\n",
    "    print(f\"\\nTOTAL de séries combinadas: {len(df_all)} linhas\")\n",
    "    display(df_all.head(10))\n",
    "else:\n",
    "    print(\"\\nNenhum dataset coletado.\")"
   ]
  },
  {
   "cell_type": "markdown",
   "id": "639e3da4",
   "metadata": {},
   "source": [
    "## Salvando CSV e JSONL (UTF-8)"
   ]
  },
  {
   "cell_type": "code",
   "execution_count": null,
   "id": "9514a92c",
   "metadata": {},
   "outputs": [],
   "source": [
    "carimbo = datetime.now(timezone.utc).strftime('%Y%m%d_%H%M%S')\n",
    "csv_path = f'data/raw/series_{carimbo}.csv'\n",
    "jsonl_path = f'data/raw/series_{carimbo}.jsonl'\n",
    "\n",
    "df_all.to_csv(csv_path, index=False, encoding='utf-8')\n",
    "\n",
    "with open(jsonl_path, 'w', encoding='utf-8') as f:\n",
    "    for _, row in df_all.iterrows():\n",
    "        f.write(json.dumps(row.to_dict(), ensure_ascii=False) + '\\n')\n",
    "\n",
    "print('Arquivos salvos:')\n",
    "print(' -', csv_path)\n",
    "print(' -', jsonl_path)\n"
   ]
  },
  {
   "cell_type": "markdown",
   "id": "46a88022",
   "metadata": {},
   "source": [
    "## Inserção no DuckDB (`indicadores`)"
   ]
  },
  {
   "cell_type": "code",
   "execution_count": null,
   "id": "f853effe",
   "metadata": {},
   "outputs": [],
   "source": [
    "#Criar tabela Indicadores e inserir dados;\n",
    "import duckdb\n",
    "conn = duckdb.connect('banco/banco_analitico.duckdb')\n",
    "conn.execute('''\n",
    "CREATE TABLE IF NOT EXISTS indicadores (\n",
    "    serie VARCHAR,\n",
    "    nome  VARCHAR,\n",
    "    data  DATE,\n",
    "    valor DOUBLE\n",
    ")\n",
    "''')\n",
    "conn.register('tmp_ind', df_all)\n",
    "conn.execute(\"\"\"\n",
    "INSERT INTO indicadores\n",
    "SELECT serie, nome, CAST(data AS DATE), CAST(valor AS DOUBLE)\n",
    "FROM tmp_ind\n",
    "\"\"\")\n",
    "tot = conn.execute('SELECT COUNT(*) FROM indicadores').fetchone()[0]\n",
    "amostra = conn.execute('SELECT * FROM indicadores ORDER BY data DESC LIMIT 5').fetchdf()\n",
    "print('Total em indicadores:', tot)\n",
    "amostra\n",
    "conn.close()\n"
   ]
  },
  {
   "cell_type": "code",
   "execution_count": null,
   "id": "7dea1908-238d-40a4-819f-ac061ea12bff",
   "metadata": {},
   "outputs": [],
   "source": [
    "#Consultar dados da tabela indicadores;\n",
    "\n",
    "import duckdb\n",
    "\n",
    "# Caminho do banco\n",
    "db_path = \"banco/banco_analitico.duckdb\"\n",
    "\n",
    "# Conecta ao banco (modo leitura)\n",
    "conn = duckdb.connect(db_path, read_only=True)\n",
    "\n",
    "# Consulta básica\n",
    "df_ind = conn.execute(\"\"\"\n",
    "    SELECT *\n",
    "    FROM indicadores\n",
    "    ORDER BY data DESC\n",
    "    LIMIT 20\n",
    "\"\"\").fetchdf()\n",
    "\n",
    "print(f\"Total de registros: {len(df_ind)}\")\n",
    "display(df_ind)\n",
    "\n",
    "conn.close()\n"
   ]
  }
 ],
 "metadata": {
  "kernelspec": {
   "display_name": "Python 3 (ipykernel)",
   "language": "python",
   "name": "python3"
  },
  "language_info": {
   "codemirror_mode": {
    "name": "ipython",
    "version": 3
   },
   "file_extension": ".py",
   "mimetype": "text/x-python",
   "name": "python",
   "nbconvert_exporter": "python",
   "pygments_lexer": "ipython3",
   "version": "3.13.5"
  }
 },
 "nbformat": 4,
 "nbformat_minor": 5
}
